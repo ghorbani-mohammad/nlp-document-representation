{
 "cells": [
  {
   "cell_type": "markdown",
   "metadata": {},
   "source": [
    "# Exercise 2, Section 3"
   ]
  },
  {
   "cell_type": "code",
   "execution_count": 1,
   "metadata": {},
   "outputs": [
    {
     "name": "stderr",
     "output_type": "stream",
     "text": [
      "C:\\Users\\Mohammad Ghorbani\\Anaconda\\lib\\site-packages\\smart_open\\ssh.py:34: UserWarning: paramiko missing, opening SSH/SCP/SFTP paths will be disabled.  `pip install paramiko` to suppress\n",
      "  warnings.warn('paramiko missing, opening SSH/SCP/SFTP paths will be disabled.  `pip install paramiko` to suppress')\n",
      "C:\\Users\\Mohammad Ghorbani\\Anaconda\\lib\\site-packages\\gensim\\utils.py:1197: UserWarning: detected Windows; aliasing chunkize to chunkize_serial\n",
      "  warnings.warn(\"detected Windows; aliasing chunkize to chunkize_serial\")\n"
     ]
    }
   ],
   "source": [
    "# Section 3\n",
    "import io, nltk, sys, gensim, math, collections\n",
    "from gensim.models.word2vec import LineSentence\n",
    "from gensim.models import doc2vec\n",
    "from collections import Counter, defaultdict\n",
    "from sklearn.metrics.cluster import v_measure_score\n",
    "from sklearn.cluster import KMeans\n",
    "from gensim.models.doc2vec import Doc2Vec, TaggedDocument\n"
   ]
  },
  {
   "cell_type": "code",
   "execution_count": 2,
   "metadata": {},
   "outputs": [],
   "source": [
    "stop_words = [line.rstrip('\\n') for line in open('Stop_words2.txt', encoding=\"utf8\")]"
   ]
  },
  {
   "cell_type": "code",
   "execution_count": 3,
   "metadata": {},
   "outputs": [],
   "source": [
    "lines = [line.rstrip('\\n') for line in open('Data/HAM-Train.txt', encoding=\"utf8\")]\n",
    "\n",
    "true_labels = []\n",
    "\n",
    "puredFile = open('puredInputSectionThree.txt', 'w', encoding=\"utf8\")\n",
    "for i, line in enumerate(lines):\n",
    "    delimiter = line.find('@@@@@@@@@@')+10\n",
    "    true_labels.append(line[:delimiter-10])\n",
    "    line = line[delimiter:]\n",
    "    tokens = nltk.word_tokenize(line)\n",
    "    for token in tokens:\n",
    "        if token in stop_words:\n",
    "            continue\n",
    "        else:\n",
    "            puredFile.write(token+\" \")\n",
    "    puredFile.write(\"\\n\")\n",
    "puredFile.close()"
   ]
  },
  {
   "cell_type": "code",
   "execution_count": 4,
   "metadata": {},
   "outputs": [],
   "source": [
    "lines = [line.rstrip('\\n') for line in open('puredInputSectionThree.txt', encoding=\"utf8\")]\n",
    "totalDocuments = len(lines)\n",
    "sentences = LineSentence('puredInputSectionThree.txt')"
   ]
  },
  {
   "cell_type": "code",
   "execution_count": 5,
   "metadata": {},
   "outputs": [],
   "source": [
    "documents = [TaggedDocument(doc, [i]) for i, doc in enumerate(sentences)]\n",
    "# model_doc2vec = doc2vec.Doc2Vec(documents, vector_size=300, window=5, min_count=1, workers=4, dm=0)\n",
    "model_doc2vec = doc2vec.Doc2Vec(documents, vector_size=300, window=5, min_count=1, workers=4)"
   ]
  },
  {
   "cell_type": "code",
   "execution_count": 6,
   "metadata": {},
   "outputs": [],
   "source": [
    "docs_vector = []\n",
    "\n",
    "for line in lines:\n",
    "    docs_vector.append(model_doc2vec.infer_vector(line))"
   ]
  },
  {
   "cell_type": "code",
   "execution_count": 7,
   "metadata": {},
   "outputs": [],
   "source": [
    "# kmeans = KMeans(n_clusters=5, random_state=None).fit(model_doc2vec.docvecs.vectors_docs)\n",
    "kmeans = KMeans(n_clusters=5, random_state=None).fit(docs_vector)"
   ]
  },
  {
   "cell_type": "code",
   "execution_count": 8,
   "metadata": {},
   "outputs": [],
   "source": [
    "cluster = collections.defaultdict(lambda: 0)\n",
    "doc_type_counter = collections.defaultdict(lambda: 0)\n",
    "lines = [line.rstrip('\\n') for line in open('Data/HAM-Train.txt', encoding=\"utf8\")]\n",
    "for i,line in enumerate(lines):\n",
    "    delimiter = line.find('@@@@@@@@@@')\n",
    "    cluster[kmeans.labels_[i], line[:delimiter]] += 1\n",
    "    doc_type_counter[line[:delimiter]] += 1"
   ]
  },
  {
   "cell_type": "code",
   "execution_count": 9,
   "metadata": {},
   "outputs": [
    {
     "name": "stdout",
     "output_type": "stream",
     "text": [
      "Counter({0: 3020, 3: 2503, 2: 1407, 1: 507, 4: 303})\n"
     ]
    }
   ],
   "source": [
    "print(Counter(kmeans.labels_))"
   ]
  },
  {
   "cell_type": "code",
   "execution_count": 10,
   "metadata": {},
   "outputs": [],
   "source": [
    "doc_types = ['اقتصاد', 'سیاسی', 'اجتماعی', 'ادب و هنر', 'ورزش']"
   ]
  },
  {
   "cell_type": "code",
   "execution_count": 11,
   "metadata": {},
   "outputs": [
    {
     "name": "stdout",
     "output_type": "stream",
     "text": [
      "Cluster 0\n",
      "   اقتصاد   954\n",
      "   سیاسی   836\n",
      "   اجتماعی   525\n",
      "   ادب و هنر   98\n",
      "   ورزش   607\n",
      "Cluster 1\n",
      "   اقتصاد   52\n",
      "   سیاسی   121\n",
      "   اجتماعی   160\n",
      "   ادب و هنر   77\n",
      "   ورزش   97\n",
      "Cluster 2\n",
      "   اقتصاد   295\n",
      "   سیاسی   438\n",
      "   اجتماعی   284\n",
      "   ادب و هنر   85\n",
      "   ورزش   305\n",
      "Cluster 3\n",
      "   اقتصاد   659\n",
      "   سیاسی   449\n",
      "   اجتماعی   517\n",
      "   ادب و هنر   134\n",
      "   ورزش   744\n",
      "Cluster 4\n",
      "   اقتصاد   29\n",
      "   سیاسی   56\n",
      "   اجتماعی   151\n",
      "   ادب و هنر   48\n",
      "   ورزش   19\n"
     ]
    }
   ],
   "source": [
    "for i in range(5):\n",
    "    print(\"Cluster \"+str(i))\n",
    "    for doc_type in doc_types:\n",
    "        print(\"   \"+doc_type+\"   \"+str(cluster[(i), doc_type]))"
   ]
  },
  {
   "cell_type": "markdown",
   "metadata": {},
   "source": [
    "# Calculating NMI"
   ]
  },
  {
   "cell_type": "code",
   "execution_count": 12,
   "metadata": {},
   "outputs": [
    {
     "name": "stdout",
     "output_type": "stream",
     "text": [
      "Our Class entropy is: -2.1980033260728837\n",
      "Our Cluster entropy is: -1.944195162382384\n",
      "Our Mutual Information is: -0.05730465135088636\n",
      "Our NMI is: 0.02766871337073793\n"
     ]
    }
   ],
   "source": [
    "# Calculating NMI\n",
    "\n",
    "total_documents = 7740\n",
    "\n",
    "\n",
    "# calculate class entropy\n",
    "y = 0\n",
    "for doc_type in doc_types: \n",
    "    x = doc_type_counter[doc_type]/total_documents\n",
    "#     print(x)\n",
    "#     print(x*math.log2(x))\n",
    "    y += (x*math.log2(x))\n",
    "class_entropy = y\n",
    "print(\"Our Class entropy is: \"+str(y))\n",
    "    \n",
    "    \n",
    "# calculating cluster entropy\n",
    "z = 0\n",
    "for i in range(5):\n",
    "    x = Counter(kmeans.labels_)[i]/total_documents\n",
    "    z += (x*math.log2(x))\n",
    "cluster_entropy = z\n",
    "print(\"Our Cluster entropy is: \"+str(z))\n",
    "\n",
    "\n",
    "# calculating mutual information\n",
    "k = 0\n",
    "for i in range(5):\n",
    "    l = 0\n",
    "    for doc_type in doc_types:\n",
    "        x = cluster[(i), doc_type] / Counter(kmeans.labels_)[i]\n",
    "        if (x!=0):\n",
    "            l += (x*math.log2(x))\n",
    "#         print(i)\n",
    "#         print(doc_type)\n",
    "#         print(cluster[(i), doc_type])\n",
    "#         print(Counter(kmeans.labels_)[i])\n",
    "    k += (Counter(kmeans.labels_)[i]/total_documents)*l\n",
    "mutual_information = y-k\n",
    "# print(k)\n",
    "print(\"Our Mutual Information is: \"+str(mutual_information))\n",
    "\n",
    "\n",
    "# calculate NMI\n",
    "n = (2 * mutual_information) / (class_entropy + cluster_entropy)\n",
    "print(\"Our NMI is: \"+str(n))"
   ]
  },
  {
   "cell_type": "markdown",
   "metadata": {},
   "source": [
    "# Calculating Accuracy"
   ]
  },
  {
   "cell_type": "code",
   "execution_count": 13,
   "metadata": {},
   "outputs": [
    {
     "name": "stdout",
     "output_type": "stream",
     "text": [
      "0.3161498708010336\n"
     ]
    }
   ],
   "source": [
    "# Calculating Accuracy\n",
    "\n",
    "clusters_label = []\n",
    "for i in range(5):\n",
    "    max_val = 0 \n",
    "    for doc_type in doc_types:\n",
    "        if(max_val < cluster[(i), doc_type]):\n",
    "            max_val = cluster[(i), doc_type]\n",
    "            type = doc_type\n",
    "    clusters_label.append(type)\n",
    "#print(clusters_label)\n",
    "\n",
    "x = 0\n",
    "for i in range(5):\n",
    "    x += cluster[(i), clusters_label[i]]\n",
    "print(x/total_documents)"
   ]
  },
  {
   "cell_type": "markdown",
   "metadata": {},
   "source": [
    "# Calculating F-Measure\n"
   ]
  },
  {
   "cell_type": "code",
   "execution_count": 14,
   "metadata": {},
   "outputs": [
    {
     "name": "stdout",
     "output_type": "stream",
     "text": [
      "0.3430035593646942\n"
     ]
    }
   ],
   "source": [
    "# Calculating F-Measure\n",
    "\n",
    "\n",
    "# calculating precision & recall\n",
    "class_precision = []\n",
    "class_recall = []\n",
    "for i in range(5):\n",
    "    precision = cluster[(i), clusters_label[i]]/Counter(kmeans.labels_)[i]\n",
    "    recall = cluster[(i), clusters_label[i]]/doc_type_counter[clusters_label[i]]\n",
    "    class_precision.append(precision)\n",
    "    class_recall.append(recall)\n",
    "\n",
    "precision = 0\n",
    "recall = 0\n",
    "for i in range(5):\n",
    "    precision += (Counter(kmeans.labels_)[i]/total_documents)*class_precision[i]\n",
    "    recall += (Counter(kmeans.labels_)[i]/total_documents)*class_recall[i]\n",
    "\n",
    "# print(precision)\n",
    "# print(recall)\n",
    "\n",
    "f_measure = (2*precision*recall)/(precision+recall)\n",
    "print(f_measure)"
   ]
  },
  {
   "cell_type": "code",
   "execution_count": 15,
   "metadata": {},
   "outputs": [],
   "source": [
    "x = {}\n",
    "for i, item in enumerate(clusters_label):\n",
    "#     print(i)\n",
    "#     print(item)\n",
    "    x[item] = i"
   ]
  },
  {
   "cell_type": "code",
   "execution_count": 16,
   "metadata": {},
   "outputs": [],
   "source": [
    "true_labels_code = []\n",
    "for i, item in enumerate(true_labels[:]):\n",
    "    try:\n",
    "        true_labels_code.append(x[true_labels[i]])\n",
    "    except:\n",
    "        true_labels_code.append(5)"
   ]
  },
  {
   "cell_type": "markdown",
   "metadata": {},
   "source": [
    "# Calculating V-Measure"
   ]
  },
  {
   "cell_type": "code",
   "execution_count": 17,
   "metadata": {},
   "outputs": [
    {
     "name": "stdout",
     "output_type": "stream",
     "text": [
      "Our V-Measure is: 0.02766871337073784\n"
     ]
    }
   ],
   "source": [
    "# Calculating V-Measure\n",
    "print(\"Our V-Measure is: \"+str(v_measure_score(true_labels_code, kmeans.labels_)))"
   ]
  },
  {
   "cell_type": "markdown",
   "metadata": {},
   "source": [
    "# Going to Test dataset"
   ]
  },
  {
   "cell_type": "code",
   "execution_count": 18,
   "metadata": {},
   "outputs": [],
   "source": [
    "# Going to test dataset\n",
    "\n",
    "lines_test = [line.rstrip('\\n') for line in open('Data/HAM-Test.txt', encoding=\"utf8\")]"
   ]
  },
  {
   "cell_type": "code",
   "execution_count": 19,
   "metadata": {},
   "outputs": [],
   "source": [
    "true_labels_test = []\n",
    "doc_type_counter_test = collections.defaultdict(lambda: 0)\n",
    "puredFile = open('puredInputSectionThree_test.txt', 'w', encoding=\"utf8\")\n",
    "for i, line in enumerate(lines_test[:]):\n",
    "    delimiter = line.find('@@@@@@@@@@')+10\n",
    "    doc_type_counter_test[line[:delimiter-10]] += 1\n",
    "    true_labels_test.append(line[:delimiter-10])\n",
    "    line = line[delimiter:]\n",
    "    tokens = nltk.word_tokenize(line)\n",
    "    for token in tokens:\n",
    "        if token in stop_words:\n",
    "            continue\n",
    "        else:\n",
    "            puredFile.write(token+\" \")\n",
    "    puredFile.write(\"\\n\")\n",
    "puredFile.close()"
   ]
  },
  {
   "cell_type": "code",
   "execution_count": 20,
   "metadata": {},
   "outputs": [],
   "source": [
    "lines = [line.rstrip('\\n') for line in open('puredInputSectionThree_test.txt', encoding=\"utf8\")]"
   ]
  },
  {
   "cell_type": "code",
   "execution_count": 21,
   "metadata": {},
   "outputs": [],
   "source": [
    "# Creating document vector for test documents\n",
    "document_vector_test = []\n",
    "\n",
    "for i, line in enumerate(lines):\n",
    "    x = model_doc2vec.infer_vector(line)\n",
    "    document_vector_test.append(x)"
   ]
  },
  {
   "cell_type": "code",
   "execution_count": 22,
   "metadata": {},
   "outputs": [
    {
     "name": "stdout",
     "output_type": "stream",
     "text": [
      "860\n"
     ]
    }
   ],
   "source": [
    "print(len(document_vector_test))\n"
   ]
  },
  {
   "cell_type": "code",
   "execution_count": 25,
   "metadata": {},
   "outputs": [],
   "source": [
    "kmeans_test_counter = collections.defaultdict(lambda: 0)\n",
    "test_clustering = collections.defaultdict(lambda: 0)\n",
    "predicted_labels_test = []\n",
    "\n",
    "for i, item in enumerate(document_vector_test[:]):\n",
    "    x = kmeans.predict(document_vector_test[i].reshape(1, -1))[0]\n",
    "    kmeans_test_counter[x] += 1\n",
    "    test_clustering[x, true_labels_test[i]] +=1\n",
    "    predicted_labels_test.append(x)\n",
    "    \n",
    "# print(test_clustering)"
   ]
  },
  {
   "cell_type": "code",
   "execution_count": 26,
   "metadata": {},
   "outputs": [
    {
     "name": "stdout",
     "output_type": "stream",
     "text": [
      "defaultdict(<function <lambda> at 0x00000242D9C67730>, {0: 325, 2: 145, 3: 301, 4: 34, 1: 55})\n"
     ]
    }
   ],
   "source": [
    "print(kmeans_test_counter)\n",
    "# print(test_clustering)"
   ]
  },
  {
   "cell_type": "markdown",
   "metadata": {},
   "source": [
    "# Calculating NMI\n"
   ]
  },
  {
   "cell_type": "code",
   "execution_count": 27,
   "metadata": {},
   "outputs": [
    {
     "name": "stdout",
     "output_type": "stream",
     "text": [
      "Our Class entropy is: -2.2116490392885453\n",
      "Our Cluster entropy is: -1.9316218825245253\n",
      "Our Mutual Information is: -0.06905739147781098\n",
      "Our NMI is: 0.03333472166362313\n"
     ]
    }
   ],
   "source": [
    "# Calculating NMI\n",
    "\n",
    "total_documents_test = len(document_vector_test)\n",
    "\n",
    "# calculate class entropy\n",
    "y = 0\n",
    "for doc_type in doc_types:\n",
    "    x = doc_type_counter_test[doc_type]/total_documents_test\n",
    "#     try:\n",
    "    y += (x*math.log2(x))\n",
    "#     except:\n",
    "#         continue\n",
    "class_entropy = y\n",
    "print(\"Our Class entropy is: \"+str(y))\n",
    "\n",
    "\n",
    "# calculating cluster entropy\n",
    "z = 0\n",
    "for i in range(5):\n",
    "    x = kmeans_test_counter[i]/total_documents_test\n",
    "    try:\n",
    "        z += (x*math.log2(x))\n",
    "    except:\n",
    "        continue\n",
    "cluster_entropy = z\n",
    "print(\"Our Cluster entropy is: \"+str(z))\n",
    "    \n",
    "# calculating mutual information\n",
    "k = 0\n",
    "for i in range(5):\n",
    "    l = 0\n",
    "    for doc_type in doc_types:\n",
    "        try:\n",
    "            x = test_clustering[i, doc_type] / kmeans_test_counter[i]\n",
    "        except: \n",
    "            continue\n",
    "        if (x!=0):\n",
    "            l += (x*math.log2(x))\n",
    "    k += (kmeans_test_counter[i]/total_documents_test)*l\n",
    "mutual_information = y-k\n",
    "# print(\"K is: \"+str(k))\n",
    "print(\"Our Mutual Information is: \"+str(mutual_information))\n",
    "\n",
    "# calculate NMI\n",
    "n = (2 * mutual_information) / (class_entropy + cluster_entropy)\n",
    "print(\"Our NMI is: \"+str(n))"
   ]
  },
  {
   "cell_type": "markdown",
   "metadata": {},
   "source": [
    "# Calculating Accuracy"
   ]
  },
  {
   "cell_type": "code",
   "execution_count": 28,
   "metadata": {},
   "outputs": [
    {
     "name": "stdout",
     "output_type": "stream",
     "text": [
      "97\n",
      "17\n",
      "32\n",
      "95\n",
      "12\n",
      "0.2941860465116279\n"
     ]
    }
   ],
   "source": [
    "# Calculating Accuracy\n",
    "\n",
    "clusters_label = []\n",
    "for i in range(5):\n",
    "    max_val = 0 \n",
    "    for doc_type in doc_types:\n",
    "        if(max_val < cluster[(i), doc_type]):\n",
    "            max_val = cluster[(i), doc_type]\n",
    "            type = doc_type\n",
    "    clusters_label.append(type)\n",
    "#print(clusters_label)\n",
    "\n",
    "x = 0\n",
    "for i in range(5):\n",
    "    print(test_clustering[(i), clusters_label[i]])\n",
    "    x += test_clustering[(i), clusters_label[i]]\n",
    "print(x/total_documents_test)"
   ]
  },
  {
   "cell_type": "code",
   "execution_count": null,
   "metadata": {},
   "outputs": [],
   "source": []
  },
  {
   "cell_type": "code",
   "execution_count": null,
   "metadata": {},
   "outputs": [],
   "source": []
  }
 ],
 "metadata": {
  "kernelspec": {
   "display_name": "Python 3",
   "language": "python",
   "name": "python3"
  },
  "language_info": {
   "codemirror_mode": {
    "name": "ipython",
    "version": 3
   },
   "file_extension": ".py",
   "mimetype": "text/x-python",
   "name": "python",
   "nbconvert_exporter": "python",
   "pygments_lexer": "ipython3",
   "version": "3.7.3"
  }
 },
 "nbformat": 4,
 "nbformat_minor": 2
}
