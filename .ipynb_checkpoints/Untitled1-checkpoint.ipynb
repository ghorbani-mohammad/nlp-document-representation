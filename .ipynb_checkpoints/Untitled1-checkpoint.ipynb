{
 "cells": [
  {
   "cell_type": "code",
   "execution_count": 2,
   "metadata": {},
   "outputs": [
    {
     "name": "stderr",
     "output_type": "stream",
     "text": [
      "C:\\Users\\Mohammad Ghorbani\\Anaconda\\lib\\site-packages\\smart_open\\ssh.py:34: UserWarning: paramiko missing, opening SSH/SCP/SFTP paths will be disabled.  `pip install paramiko` to suppress\n",
      "  warnings.warn('paramiko missing, opening SSH/SCP/SFTP paths will be disabled.  `pip install paramiko` to suppress')\n",
      "C:\\Users\\Mohammad Ghorbani\\Anaconda\\lib\\site-packages\\gensim\\utils.py:1197: UserWarning: detected Windows; aliasing chunkize to chunkize_serial\n",
      "  warnings.warn(\"detected Windows; aliasing chunkize to chunkize_serial\")\n"
     ]
    }
   ],
   "source": [
    "# Section 1\n",
    "\n",
    "import io, nltk, sys, gensim, math, collections, numpy\n",
    "from gensim.models.word2vec import LineSentence\n",
    "from gensim.models import Word2Vec\n",
    "from collections import Counter, defaultdict\n",
    "from sklearn.metrics.cluster import v_measure_score\n",
    "from sklearn.cluster import KMeans"
   ]
  },
  {
   "cell_type": "markdown",
   "metadata": {},
   "source": [
    "# Reading train file and remove stop words"
   ]
  },
  {
   "cell_type": "code",
   "execution_count": 3,
   "metadata": {},
   "outputs": [],
   "source": [
    "# We preproceed our input and put it in puredInputSectionOne\n",
    "\n",
    "stop_words = [line.rstrip('\\n') for line in open('Stop_words2.txt', encoding=\"utf8\")]"
   ]
  },
  {
   "cell_type": "code",
   "execution_count": 4,
   "metadata": {},
   "outputs": [],
   "source": [
    "lines = [line.rstrip('\\n') for line in open('Data/HAM-Train.txt', encoding=\"utf8\")]"
   ]
  },
  {
   "cell_type": "code",
   "execution_count": 5,
   "metadata": {},
   "outputs": [],
   "source": [
    "true_labels = []\n",
    "\n",
    "puredFile = open('puredInputSectionOne.txt', 'w', encoding=\"utf8\")\n",
    "for i, line in enumerate(lines):\n",
    "    delimiter = line.find('@@@@@@@@@@')+10\n",
    "    \n",
    "    true_labels.append(line[:delimiter-10])\n",
    "    \n",
    "    line = line[delimiter:]\n",
    "    tokens = nltk.word_tokenize(line)\n",
    "    for token in tokens:\n",
    "        if token in stop_words:\n",
    "            continue\n",
    "        else:\n",
    "            puredFile.write(token+\" \")\n",
    "    puredFile.write(\"\\n\")\n",
    "puredFile.close()"
   ]
  },
  {
   "cell_type": "code",
   "execution_count": 6,
   "metadata": {},
   "outputs": [],
   "source": [
    "lines = [line.rstrip('\\n') for line in open('puredInputSectionOne.txt', encoding=\"utf8\")]\n",
    "sentences = LineSentence('puredInputSectionOne.txt')"
   ]
  },
  {
   "cell_type": "code",
   "execution_count": 7,
   "metadata": {},
   "outputs": [],
   "source": [
    "model = Word2Vec(sentences, size=300, window=5, min_count=1, workers=4)"
   ]
  },
  {
   "cell_type": "code",
   "execution_count": 8,
   "metadata": {},
   "outputs": [],
   "source": [
    "document_vector = []\n",
    "\n",
    "for i,line in enumerate(lines[:]):\n",
    "    tokens = nltk.word_tokenize(line)\n",
    "    sum_vector = model.wv[tokens[0]]\n",
    "    counter = 1\n",
    "    for token in tokens[1:]:\n",
    "        counter = counter + 1\n",
    "        sum_vector = sum_vector + model.wv[token]\n",
    "    document_vector.append(sum_vector/counter)"
   ]
  },
  {
   "cell_type": "code",
   "execution_count": 9,
   "metadata": {},
   "outputs": [],
   "source": [
    "kmeans = KMeans(n_clusters=5, random_state=0).fit(document_vector)"
   ]
  },
  {
   "cell_type": "code",
   "execution_count": 13,
   "metadata": {},
   "outputs": [],
   "source": [
    "cluster = collections.defaultdict(lambda: 0)\n",
    "doc_type_counter = collections.defaultdict(lambda: 0)\n",
    "lines = [line.rstrip('\\n') for line in open('Data/HAM-Train.txt', encoding=\"utf8\")]\n",
    "for i,line in enumerate(lines):\n",
    "    delimiter = line.find('@@@@@@@@@@')\n",
    "    cluster[kmeans.labels_[i], line[:delimiter]] += 1\n",
    "    doc_type_counter[line[:delimiter]] += 1"
   ]
  },
  {
   "cell_type": "code",
   "execution_count": 14,
   "metadata": {},
   "outputs": [],
   "source": [
    "doc_types = ['اقتصاد', 'سیاسی', 'اجتماعی', 'ادب و هنر', 'ورزش']"
   ]
  },
  {
   "cell_type": "markdown",
   "metadata": {},
   "source": [
    "# Calculating NMI"
   ]
  },
  {
   "cell_type": "code",
   "execution_count": 16,
   "metadata": {},
   "outputs": [
    {
     "name": "stdout",
     "output_type": "stream",
     "text": [
      "Our Class entropy is: -2.1980033260728837\n",
      "Our Cluster entropy is: -2.0663232476449664\n",
      "Our Mutual Information is: -1.1959163121702119\n",
      "Our NMI is: 0.5608933985220335\n"
     ]
    }
   ],
   "source": [
    "total_documents = 7740\n",
    "\n",
    "# calculate class entropy\n",
    "y = 0\n",
    "for doc_type in doc_types: \n",
    "    x = doc_type_counter[doc_type]/total_documents\n",
    "    y += (x*math.log2(x))\n",
    "class_entropy = y\n",
    "    \n",
    "# calculating cluster entropy\n",
    "z = 0\n",
    "for i in range(5):\n",
    "    x = Counter(kmeans.labels_)[i]/total_documents\n",
    "    z += (x*math.log2(x))\n",
    "cluster_entropy = z\n",
    "\n",
    "# calculating mutual information\n",
    "k = 0\n",
    "for i in range(5):\n",
    "    l = 0\n",
    "    for doc_type in doc_types:\n",
    "        x = cluster[(i), doc_type] / Counter(kmeans.labels_)[i]\n",
    "        if (x!=0):\n",
    "            l += (x*math.log2(x))\n",
    "    k += (Counter(kmeans.labels_)[i]/total_documents)*l\n",
    "mutual_information = y-k\n",
    "\n",
    "# calculate NMI\n",
    "n = (2 * mutual_information) / (class_entropy + cluster_entropy)\n",
    "print(\"Our NMI is: \"+str(n))"
   ]
  },
  {
   "cell_type": "markdown",
   "metadata": {},
   "source": [
    "# Calculating Accuracy"
   ]
  },
  {
   "cell_type": "code",
   "execution_count": 17,
   "metadata": {},
   "outputs": [
    {
     "name": "stdout",
     "output_type": "stream",
     "text": [
      "0.7277777777777777\n"
     ]
    }
   ],
   "source": [
    "clusters_label = []\n",
    "for i in range(5):\n",
    "    max_val = 0 \n",
    "    for doc_type in doc_types:\n",
    "        if(max_val < cluster[(i), doc_type]):\n",
    "            max_val = cluster[(i), doc_type]\n",
    "            type = doc_type\n",
    "    clusters_label.append(type)\n",
    "\n",
    "x = 0\n",
    "for i in range(5):\n",
    "    x += cluster[(i), clusters_label[i]]\n",
    "print(x/total_documents)"
   ]
  },
  {
   "cell_type": "markdown",
   "metadata": {},
   "source": [
    "# Calculating F-Measure"
   ]
  },
  {
   "cell_type": "code",
   "execution_count": 18,
   "metadata": {},
   "outputs": [
    {
     "name": "stdout",
     "output_type": "stream",
     "text": [
      "0.736731024254575\n"
     ]
    }
   ],
   "source": [
    "# calculating precision & recall\n",
    "class_precision = []\n",
    "class_recall = []\n",
    "for i in range(5):\n",
    "    precision = cluster[(i), clusters_label[i]]/Counter(kmeans.labels_)[i]\n",
    "    recall = cluster[(i), clusters_label[i]]/doc_type_counter[clusters_label[i]]\n",
    "    class_precision.append(precision)\n",
    "    class_recall.append(recall)\n",
    "\n",
    "precision = 0\n",
    "recall = 0\n",
    "for i in range(5):\n",
    "    precision += (Counter(kmeans.labels_)[i]/total_documents)*class_precision[i]\n",
    "    recall += (Counter(kmeans.labels_)[i]/total_documents)*class_recall[i]\n",
    "\n",
    "f_measure = (2*precision*recall)/(precision+recall)\n",
    "print(f_measure)"
   ]
  },
  {
   "cell_type": "markdown",
   "metadata": {},
   "source": [
    "# Calculating V-Measure"
   ]
  },
  {
   "cell_type": "code",
   "execution_count": 26,
   "metadata": {},
   "outputs": [],
   "source": [
    "x = {}\n",
    "for i, item in enumerate(clusters_label):\n",
    "    x[item] = i\n",
    "\n",
    "true_labels_code = []\n",
    "for i, item in enumerate(true_labels[:]):\n",
    "    try:\n",
    "        true_labels_code.append(x[true_labels[i]])\n",
    "    except:\n",
    "        true_labels_code.append(5)\n",
    "        \n",
    "# Calculating V-Measure\n",
    "print(\"Our V-Measure is: \"+str(v_measure_score(true_labels_code, kmeans.labels_)))"
   ]
  },
  {
   "cell_type": "markdown",
   "metadata": {},
   "source": [
    "# Going to Test dataset"
   ]
  },
  {
   "cell_type": "code",
   "execution_count": 29,
   "metadata": {},
   "outputs": [],
   "source": [
    "# Going to test dataset\n",
    "lines_test = [line.rstrip('\\n') for line in open('Data/HAM-Test.txt', encoding=\"utf8\")]"
   ]
  },
  {
   "cell_type": "code",
   "execution_count": 30,
   "metadata": {},
   "outputs": [],
   "source": [
    "true_labels_test = []\n",
    "doc_type_counter_test = collections.defaultdict(lambda: 0)\n",
    "puredFile = open('puredInputSectionOne_test.txt', 'w', encoding=\"utf8\")\n",
    "for i, line in enumerate(lines_test):\n",
    "    delimiter = line.find('@@@@@@@@@@')+10\n",
    "    doc_type_counter_test[line[:delimiter-10]] += 1\n",
    "    true_labels_test.append(line[:delimiter-10])\n",
    "    line = line[delimiter:]\n",
    "    tokens = nltk.word_tokenize(line)\n",
    "    for token in tokens:\n",
    "        if token in stop_words:\n",
    "            continue\n",
    "        else:\n",
    "            puredFile.write(token+\" \")\n",
    "    puredFile.write(\"\\n\")\n",
    "puredFile.close()"
   ]
  },
  {
   "cell_type": "code",
   "execution_count": 31,
   "metadata": {},
   "outputs": [],
   "source": [
    "lines = [line.rstrip('\\n') for line in open('puredInputSectionOne_test.txt', encoding=\"utf8\")]"
   ]
  },
  {
   "cell_type": "markdown",
   "metadata": {},
   "source": [
    "# Creating document vector for test documents"
   ]
  },
  {
   "cell_type": "code",
   "execution_count": 32,
   "metadata": {},
   "outputs": [],
   "source": [
    "document_vector_test = []\n",
    "\n",
    "for i,line in enumerate(lines[:]):\n",
    "    tokens = nltk.word_tokenize(line)\n",
    "    sum_vector = [0] * 300\n",
    "    counter = 1\n",
    "    for token in tokens[1:]:\n",
    "        counter = counter + 1\n",
    "        try:\n",
    "            sum_vector = sum_vector + model.wv[token]\n",
    "        except:\n",
    "            continue\n",
    "    document_vector_test.append(sum_vector/counter)\n",
    "\n",
    "kmeans_test_counter = collections.defaultdict(lambda: 0)\n",
    "test_clustering = collections.defaultdict(lambda: 0)\n",
    "predicted_labels_test = []\n",
    "\n",
    "for i, item in enumerate(document_vector_test[:]):\n",
    "    x = kmeans.predict(document_vector_test[i].reshape(1, -1))[0]\n",
    "    kmeans_test_counter[x] += 1\n",
    "    test_clustering[x, true_labels_test[i]] +=1\n",
    "    predicted_labels_test.append(x)"
   ]
  },
  {
   "cell_type": "markdown",
   "metadata": {},
   "source": [
    "# Calculating NMI"
   ]
  },
  {
   "cell_type": "code",
   "execution_count": 34,
   "metadata": {},
   "outputs": [
    {
     "name": "stdout",
     "output_type": "stream",
     "text": [
      "Our Class entropy is: -2.2116490392885453\n",
      "Our Cluster entropy is: -2.053538325758056\n",
      "Our Mutual Information is: -1.2401656563786483\n",
      "Our NMI is: 0.581529274208144\n"
     ]
    }
   ],
   "source": [
    "total_documents_test = len(document_vector_test)\n",
    "\n",
    "# calculate class entropy\n",
    "y = 0\n",
    "for doc_type in doc_types:\n",
    "    x = doc_type_counter_test[doc_type]/total_documents_test\n",
    "    y += (x*math.log2(x))\n",
    "class_entropy = y\n",
    "\n",
    "# calculating cluster entropy\n",
    "z = 0\n",
    "for i in range(5):\n",
    "    x = kmeans_test_counter[i]/total_documents_test\n",
    "    z += (x*math.log2(x))\n",
    "cluster_entropy = z\n",
    "    \n",
    "# calculating mutual information\n",
    "k = 0\n",
    "for i in range(5):\n",
    "    l = 0\n",
    "    for doc_type in doc_types:\n",
    "        x = test_clustering[i, doc_type] / kmeans_test_counter[i]\n",
    "        if (x!=0):\n",
    "            l += (x*math.log2(x))\n",
    "    k += (kmeans_test_counter[i]/total_documents_test)*l\n",
    "mutual_information = y-k\n",
    "\n",
    "# calculate NMI\n",
    "n = (2 * mutual_information) / (class_entropy + cluster_entropy)\n",
    "print(\"Our NMI is: \"+str(n))"
   ]
  },
  {
   "cell_type": "markdown",
   "metadata": {},
   "source": [
    "# Calculating Accuracy"
   ]
  },
  {
   "cell_type": "code",
   "execution_count": 40,
   "metadata": {},
   "outputs": [],
   "source": [
    "clusters_label = []\n",
    "for i in range(5):\n",
    "    max_val = 0 \n",
    "    for doc_type in doc_types:\n",
    "        if(max_val < cluster[(i), doc_type]):\n",
    "            max_val = cluster[(i), doc_type]\n",
    "            type = doc_type\n",
    "    clusters_label.append(type)\n",
    "#print(clusters_label)\n",
    "\n",
    "x = 0\n",
    "for i in range(5):\n",
    "#     print(test_clustering[(i), clusters_label[i]])\n",
    "    x += test_clustering[(i), clusters_label[i]]\n",
    "print(x/total_documents_test)"
   ]
  },
  {
   "cell_type": "markdown",
   "metadata": {},
   "source": [
    "# Calculating F-Measure "
   ]
  },
  {
   "cell_type": "code",
   "execution_count": 44,
   "metadata": {},
   "outputs": [
    {
     "name": "stdout",
     "output_type": "stream",
     "text": [
      "0.7485153758376375\n"
     ]
    }
   ],
   "source": [
    "# calculating precision & recall\n",
    "class_precision_test = []\n",
    "class_recall_test = []\n",
    "for i in range(5):\n",
    "    precision = test_clustering[(i), clusters_label[i]]/kmeans_test_counter[i]\n",
    "    recall = test_clustering[(i), clusters_label[i]]/doc_type_counter_test[clusters_label[i]]\n",
    "    class_precision.append(precision)\n",
    "    class_recall.append(recall)\n",
    "\n",
    "precision = 0\n",
    "recall = 0\n",
    "for i in range(5):\n",
    "    precision += (kmeans_test_counter[i]/total_documents_test)*class_precision[i]\n",
    "    recall += (kmeans_test_counter[i]/total_documents_test)*class_recall[i]\n",
    "\n",
    "f_measure = (2*precision*recall)/(precision+recall)\n",
    "print(f_measure)"
   ]
  },
  {
   "cell_type": "markdown",
   "metadata": {},
   "source": [
    "# Calculating V-Measure"
   ]
  },
  {
   "cell_type": "code",
   "execution_count": 45,
   "metadata": {},
   "outputs": [],
   "source": [
    "x = {}\n",
    "for i, item in enumerate(clusters_label):\n",
    "    x[item] = i\n",
    "\n",
    "true_labels_code_test = []\n",
    "for i, item in enumerate(true_labels_test[:]):\n",
    "    try:\n",
    "        true_labels_code_test.append(x[true_labels_test[i]])\n",
    "    except:\n",
    "        true_labels_code_test.append(5)\n",
    "\n",
    "# Calculating V-Measure\n",
    "print(\"Our V-Measure is: \"+str(v_measure_score(true_labels_code_test, predicted_labels_test)))"
   ]
  }
 ],
 "metadata": {
  "kernelspec": {
   "display_name": "Python 3",
   "language": "python",
   "name": "python3"
  },
  "language_info": {
   "codemirror_mode": {
    "name": "ipython",
    "version": 3
   },
   "file_extension": ".py",
   "mimetype": "text/x-python",
   "name": "python",
   "nbconvert_exporter": "python",
   "pygments_lexer": "ipython3",
   "version": "3.7.3"
  }
 },
 "nbformat": 4,
 "nbformat_minor": 2
}
