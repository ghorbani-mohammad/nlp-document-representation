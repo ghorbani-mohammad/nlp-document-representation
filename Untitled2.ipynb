{
 "cells": [
  {
   "cell_type": "markdown",
   "metadata": {},
   "source": [
    "# Exercise 2, Section 2"
   ]
  },
  {
   "cell_type": "code",
   "execution_count": 1,
   "metadata": {},
   "outputs": [
    {
     "name": "stderr",
     "output_type": "stream",
     "text": [
      "C:\\Users\\Mohammad Ghorbani\\Anaconda\\lib\\site-packages\\smart_open\\ssh.py:34: UserWarning: paramiko missing, opening SSH/SCP/SFTP paths will be disabled.  `pip install paramiko` to suppress\n",
      "  warnings.warn('paramiko missing, opening SSH/SCP/SFTP paths will be disabled.  `pip install paramiko` to suppress')\n",
      "C:\\Users\\Mohammad Ghorbani\\Anaconda\\lib\\site-packages\\gensim\\utils.py:1197: UserWarning: detected Windows; aliasing chunkize to chunkize_serial\n",
      "  warnings.warn(\"detected Windows; aliasing chunkize to chunkize_serial\")\n"
     ]
    }
   ],
   "source": [
    "# Section 2\n",
    "import io, nltk, sys, gensim, math, collections\n",
    "from gensim.models.word2vec import LineSentence\n",
    "from gensim.models import Word2Vec\n",
    "from collections import Counter, defaultdict\n",
    "from sklearn.metrics.cluster import v_measure_score\n",
    "from sklearn.cluster import KMeans\n"
   ]
  },
  {
   "cell_type": "code",
   "execution_count": 2,
   "metadata": {},
   "outputs": [],
   "source": [
    "import numpy as np"
   ]
  },
  {
   "cell_type": "markdown",
   "metadata": {},
   "source": [
    "# Reading train file"
   ]
  },
  {
   "cell_type": "code",
   "execution_count": 3,
   "metadata": {},
   "outputs": [],
   "source": [
    "lines = [line.rstrip('\\n') for line in open('Data/HAM-Train.txt', encoding=\"utf8\")]\n",
    "\n",
    "true_labels = []\n",
    "\n",
    "puredFile = open('puredInputSectionTwo.txt', 'w', encoding=\"utf8\")\n",
    "for i, line in enumerate(lines):\n",
    "    delimiter = line.find('@@@@@@@@@@')+10\n",
    "    true_labels.append(line[:delimiter-10])\n",
    "    line = line[delimiter:]\n",
    "    tokens = nltk.word_tokenize(line)\n",
    "    for token in tokens:\n",
    "        puredFile.write(token+\" \")\n",
    "    puredFile.write(\"\\n\")\n",
    "puredFile.close()"
   ]
  },
  {
   "cell_type": "code",
   "execution_count": 4,
   "metadata": {},
   "outputs": [],
   "source": [
    "totalDocuments = len(lines)"
   ]
  },
  {
   "cell_type": "code",
   "execution_count": 6,
   "metadata": {},
   "outputs": [],
   "source": [
    "lines = [line.rstrip('\\n') for line in open('puredInputSectionTwo.txt', encoding=\"utf8\")]\n",
    "sentences = LineSentence('puredInputSectionTwo.txt')\n",
    "model_word2vec = Word2Vec(sentences, size=300, window=5, min_count=1, workers=4)"
   ]
  },
  {
   "cell_type": "code",
   "execution_count": 7,
   "metadata": {},
   "outputs": [],
   "source": [
    "idf_word = collections.defaultdict(lambda: 0)\n",
    "line_tf_word = collections.defaultdict(lambda: 0)\n",
    "for i, line in enumerate(lines[:]):\n",
    "    current_line = collections.defaultdict(lambda: 0)\n",
    "    tokens = nltk.word_tokenize(line)\n",
    "    for token in tokens:\n",
    "        line_tf_word[i, token] += 1\n",
    "        if(current_line[token] == 0):\n",
    "            idf_word[token] +=1\n",
    "            current_line[token] = 1\n",
    "        else:\n",
    "            continue"
   ]
  },
  {
   "cell_type": "code",
   "execution_count": 8,
   "metadata": {},
   "outputs": [],
   "source": [
    "idf = collections.defaultdict(lambda: 0)\n",
    "def tf_calculator(term, line_number):\n",
    "    counter = line_tf_word[line_number, term]\n",
    "    tf_value = 0\n",
    "    if ((counter <= 0)):\n",
    "        tf_value = 0\n",
    "    else:\n",
    "        tf_value = 1 + math.log10(counter)\n",
    "    return tf_value\n",
    "\n",
    "def idf_calculator(term):\n",
    "    idf[term] = math.log10(totalDocuments/idf_word[term])\n",
    "    return idf[term]\n",
    "\n",
    "# tfidf calculator\n",
    "def tfidf_calculator(term, line_number):\n",
    "    tf = tf_calculator(term, line_number)\n",
    "    idf = idf_calculator(term)\n",
    "    return tf * idf"
   ]
  },
  {
   "cell_type": "code",
   "execution_count": 24,
   "metadata": {},
   "outputs": [
    {
     "name": "stderr",
     "output_type": "stream",
     "text": [
      "C:\\Users\\Mohammad Ghorbani\\Anaconda\\lib\\site-packages\\ipykernel_launcher.py:5: DeprecationWarning: Call to deprecated `__getitem__` (Method will be removed in 4.0.0, use self.wv.__getitem__() instead).\n",
      "  \"\"\"\n",
      "C:\\Users\\Mohammad Ghorbani\\Anaconda\\lib\\site-packages\\ipykernel_launcher.py:12: DeprecationWarning: Call to deprecated `__getitem__` (Method will be removed in 4.0.0, use self.wv.__getitem__() instead).\n",
      "  if sys.path[0] == '':\n"
     ]
    }
   ],
   "source": [
    "lines = [line.rstrip('\\n') for line in open('puredInputSectionTwo.txt', encoding=\"utf8\")]\n",
    "document_vector = []\n",
    "for i, line in enumerate(lines[:]): \n",
    "    tokens = nltk.word_tokenize(line)\n",
    "    sum_vector = model_word2vec[tokens[0]] * tfidf_calculator(tokens[0], i)\n",
    "#     y = tfidf_calculator(tokens[0], i)\n",
    "    y = 0\n",
    "    for token in tokens[1:]:\n",
    "        x = tfidf_calculator(token, i)\n",
    "        y += x\n",
    "#         sum_vector = sum_vector + np.multiply(np.array(model_word2vec[token]), x)\n",
    "        sum_vector = sum_vector + model_word2vec[token] * x\n",
    "    document_vector.append(sum_vector/y)   "
   ]
  },
  {
   "cell_type": "code",
   "execution_count": 25,
   "metadata": {},
   "outputs": [
    {
     "data": {
      "text/plain": [
       "7740"
      ]
     },
     "execution_count": 25,
     "metadata": {},
     "output_type": "execute_result"
    }
   ],
   "source": [
    "len(document_vector)"
   ]
  },
  {
   "cell_type": "code",
   "execution_count": 26,
   "metadata": {},
   "outputs": [],
   "source": [
    "kmeans = KMeans(n_clusters=5, random_state=0).fit(document_vector)"
   ]
  },
  {
   "cell_type": "code",
   "execution_count": 27,
   "metadata": {},
   "outputs": [
    {
     "name": "stdout",
     "output_type": "stream",
     "text": [
      "Counter({2: 2520, 4: 1738, 1: 1721, 3: 1601, 0: 160})\n",
      "160\n"
     ]
    }
   ],
   "source": [
    "kmeans.labels_[0]\n",
    "print(Counter(kmeans.labels_))\n",
    "print(Counter(kmeans.labels_)[0])"
   ]
  },
  {
   "cell_type": "code",
   "execution_count": 28,
   "metadata": {},
   "outputs": [],
   "source": [
    "\n",
    "cluster = collections.defaultdict(lambda: 0)\n",
    "doc_type_counter = collections.defaultdict(lambda: 0)\n",
    "lines = [line.rstrip('\\n') for line in open('Data/HAM-Train.txt', encoding=\"utf8\")]\n",
    "for i,line in enumerate(lines):\n",
    "    delimiter = line.find('@@@@@@@@@@')\n",
    "    cluster[kmeans.labels_[i], line[:delimiter]] += 1\n",
    "    doc_type_counter[line[:delimiter]] += 1"
   ]
  },
  {
   "cell_type": "code",
   "execution_count": 29,
   "metadata": {},
   "outputs": [],
   "source": [
    "doc_types = ['اقتصاد', 'سیاسی', 'اجتماعی', 'ادب و هنر', 'ورزش']"
   ]
  },
  {
   "cell_type": "code",
   "execution_count": 30,
   "metadata": {},
   "outputs": [
    {
     "name": "stdout",
     "output_type": "stream",
     "text": [
      "Cluster 0\n",
      "   اقتصاد   160\n",
      "   سیاسی   0\n",
      "   اجتماعی   0\n",
      "   ادب و هنر   0\n",
      "   ورزش   0\n",
      "Cluster 1\n",
      "   اقتصاد   46\n",
      "   سیاسی   953\n",
      "   اجتماعی   710\n",
      "   ادب و هنر   4\n",
      "   ورزش   8\n",
      "Cluster 2\n",
      "   اقتصاد   200\n",
      "   سیاسی   870\n",
      "   اجتماعی   849\n",
      "   ادب و هنر   421\n",
      "   ورزش   180\n",
      "Cluster 3\n",
      "   اقتصاد   6\n",
      "   سیاسی   1\n",
      "   اجتماعی   3\n",
      "   ادب و هنر   10\n",
      "   ورزش   1581\n",
      "Cluster 4\n",
      "   اقتصاد   1577\n",
      "   سیاسی   76\n",
      "   اجتماعی   75\n",
      "   ادب و هنر   7\n",
      "   ورزش   3\n"
     ]
    }
   ],
   "source": [
    "for i in range(5):\n",
    "    print(\"Cluster \"+str(i))\n",
    "    for doc_type in doc_types:\n",
    "        print(\"   \"+doc_type+\"   \"+str(cluster[(i), doc_type]))"
   ]
  },
  {
   "cell_type": "markdown",
   "metadata": {},
   "source": [
    "# Calculating NMI"
   ]
  },
  {
   "cell_type": "code",
   "execution_count": 31,
   "metadata": {},
   "outputs": [
    {
     "name": "stdout",
     "output_type": "stream",
     "text": [
      "Our Class entropy is: -2.1980033260728837\n",
      "Our Cluster entropy is: -2.0791881728468806\n",
      "Our Mutual Information is: -1.1123063746917832\n",
      "Our NMI is: 0.5201106263176218\n"
     ]
    }
   ],
   "source": [
    "# calculate class entropy\n",
    "y = 0\n",
    "for doc_type in doc_types: \n",
    "    x = doc_type_counter[doc_type]/totalDocuments\n",
    "#     print(x)\n",
    "#     print(x*math.log2(x))\n",
    "    y += (x*math.log2(x))\n",
    "class_entropy = y\n",
    "print(\"Our Class entropy is: \"+str(y))\n",
    "    \n",
    "    \n",
    "# calculating cluster entropy\n",
    "z = 0\n",
    "for i in range(5):\n",
    "    x = Counter(kmeans.labels_)[i]/totalDocuments\n",
    "    z += (x*math.log2(x))\n",
    "cluster_entropy = z\n",
    "print(\"Our Cluster entropy is: \"+str(z))\n",
    "\n",
    "\n",
    "# calculating mutual information\n",
    "k = 0\n",
    "for i in range(5):\n",
    "    l = 0\n",
    "    for doc_type in doc_types:\n",
    "        x = cluster[(i), doc_type] / Counter(kmeans.labels_)[i]\n",
    "        if (x!=0):\n",
    "            l += (x*math.log2(x))\n",
    "#         print(i)\n",
    "#         print(doc_type)\n",
    "#         print(cluster[(i), doc_type])\n",
    "#         print(Counter(kmeans.labels_)[i])\n",
    "    k += (Counter(kmeans.labels_)[i]/totalDocuments)*l\n",
    "mutual_information = y-k\n",
    "# print(k)\n",
    "print(\"Our Mutual Information is: \"+str(mutual_information))\n",
    "\n",
    "\n",
    "# calculate NMI\n",
    "n = (2 * mutual_information) / (class_entropy + cluster_entropy)\n",
    "print(\"Our NMI is: \"+str(n))"
   ]
  },
  {
   "cell_type": "markdown",
   "metadata": {},
   "source": [
    "# Calculating Accuracy"
   ]
  },
  {
   "cell_type": "code",
   "execution_count": 32,
   "metadata": {},
   "outputs": [
    {
     "name": "stdout",
     "output_type": "stream",
     "text": [
      "0.6642118863049096\n"
     ]
    }
   ],
   "source": [
    "# Calculating Accuracy\n",
    "\n",
    "clusters_label = []\n",
    "for i in range(5):\n",
    "    max_val = 0 \n",
    "    for doc_type in doc_types:\n",
    "        if(max_val < cluster[(i), doc_type]):\n",
    "            max_val = cluster[(i), doc_type]\n",
    "            type = doc_type\n",
    "    clusters_label.append(type)\n",
    "#print(clusters_label)\n",
    "\n",
    "x = 0\n",
    "for i in range(5):\n",
    "    x += cluster[(i), clusters_label[i]]\n",
    "print(x/totalDocuments)"
   ]
  },
  {
   "cell_type": "markdown",
   "metadata": {},
   "source": [
    "# Calculating F-Measure"
   ]
  },
  {
   "cell_type": "code",
   "execution_count": 34,
   "metadata": {},
   "outputs": [
    {
     "name": "stdout",
     "output_type": "stream",
     "text": [
      "0.6439346150462737\n"
     ]
    }
   ],
   "source": [
    "# Calculating F-Measure\n",
    "\n",
    "\n",
    "# calculating precision & recall\n",
    "class_precision = []\n",
    "class_recall = []\n",
    "for i in range(5):\n",
    "    precision = cluster[(i), clusters_label[i]]/Counter(kmeans.labels_)[i]\n",
    "    recall = cluster[(i), clusters_label[i]]/doc_type_counter[clusters_label[i]]\n",
    "    class_precision.append(precision)\n",
    "    class_recall.append(recall)\n",
    "\n",
    "precision = 0\n",
    "recall = 0\n",
    "for i in range(5):\n",
    "    precision += (Counter(kmeans.labels_)[i]/totalDocuments)*class_precision[i]\n",
    "    recall += (Counter(kmeans.labels_)[i]/totalDocuments)*class_recall[i]\n",
    "\n",
    "# print(precision)\n",
    "# print(recall)\n",
    "\n",
    "f_measure = (2*precision*recall)/(precision+recall)\n",
    "print(f_measure)"
   ]
  },
  {
   "cell_type": "code",
   "execution_count": 36,
   "metadata": {},
   "outputs": [],
   "source": [
    "x = {}\n",
    "for i, item in enumerate(clusters_label):\n",
    "#     print(i)\n",
    "#     print(item)\n",
    "    x[item] = i"
   ]
  },
  {
   "cell_type": "code",
   "execution_count": 37,
   "metadata": {},
   "outputs": [],
   "source": [
    "true_labels_code = []\n",
    "for i, item in enumerate(true_labels[:]):\n",
    "    try:\n",
    "        true_labels_code.append(x[true_labels[i]])\n",
    "    except:\n",
    "        true_labels_code.append(5)"
   ]
  },
  {
   "cell_type": "markdown",
   "metadata": {},
   "source": [
    "# Calculating V-Measure"
   ]
  },
  {
   "cell_type": "code",
   "execution_count": 38,
   "metadata": {},
   "outputs": [
    {
     "name": "stdout",
     "output_type": "stream",
     "text": [
      "Our V-Measure is: 0.5261915215384398\n"
     ]
    }
   ],
   "source": [
    "# Calculating V-Measure\n",
    "print(\"Our V-Measure is: \"+str(v_measure_score(true_labels_code, kmeans.labels_)))"
   ]
  },
  {
   "cell_type": "code",
   "execution_count": null,
   "metadata": {},
   "outputs": [],
   "source": []
  },
  {
   "cell_type": "code",
   "execution_count": null,
   "metadata": {},
   "outputs": [],
   "source": []
  },
  {
   "cell_type": "markdown",
   "metadata": {},
   "source": [
    "# Section 1-2: Going to Test dataset"
   ]
  },
  {
   "cell_type": "code",
   "execution_count": 39,
   "metadata": {},
   "outputs": [],
   "source": [
    "# Going to test dataset\n",
    "\n",
    "lines_test = [line.rstrip('\\n') for line in open('Data/HAM-Test.txt', encoding=\"utf8\")]\n",
    "stop_words = [line.rstrip('\\n') for line in open('Stop_words2.txt', encoding=\"utf8\")]"
   ]
  },
  {
   "cell_type": "code",
   "execution_count": 40,
   "metadata": {},
   "outputs": [],
   "source": [
    "true_labels_test = []\n",
    "doc_type_counter_test = collections.defaultdict(lambda: 0)\n",
    "puredFile = open('puredInputSectionTwo_test.txt', 'w', encoding=\"utf8\")\n",
    "for i, line in enumerate(lines_test):\n",
    "    delimiter = line.find('@@@@@@@@@@')+10\n",
    "    doc_type_counter_test[line[:delimiter-10]] += 1\n",
    "    true_labels_test.append(line[:delimiter-10])\n",
    "    line = line[delimiter:]\n",
    "    tokens = nltk.word_tokenize(line)\n",
    "    for token in tokens:\n",
    "        if token in stop_words:\n",
    "            continue\n",
    "        else:\n",
    "            puredFile.write(token+\" \")\n",
    "    puredFile.write(\"\\n\")\n",
    "puredFile.close()"
   ]
  },
  {
   "cell_type": "code",
   "execution_count": 41,
   "metadata": {},
   "outputs": [],
   "source": [
    "lines = [line.rstrip('\\n') for line in open('puredInputSectionTwo_test.txt', encoding=\"utf8\")]"
   ]
  },
  {
   "cell_type": "markdown",
   "metadata": {},
   "source": [
    "# Creating document vector for test documents"
   ]
  },
  {
   "cell_type": "code",
   "execution_count": 45,
   "metadata": {},
   "outputs": [],
   "source": [
    "idf_word_test = collections.defaultdict(lambda: 0)\n",
    "line_tf_word_test = collections.defaultdict(lambda: 0)\n",
    "for i, line in enumerate(lines[:]):\n",
    "    current_line = collections.defaultdict(lambda: 0)\n",
    "    tokens = nltk.word_tokenize(line)\n",
    "    for token in tokens:\n",
    "        line_tf_word_test[i, token] += 1\n",
    "        if(current_line[token] == 0):\n",
    "            idf_word_test[token] +=1\n",
    "            current_line[token] = 1\n",
    "        else:\n",
    "            continue"
   ]
  },
  {
   "cell_type": "code",
   "execution_count": 46,
   "metadata": {},
   "outputs": [],
   "source": [
    "idf_test = collections.defaultdict(lambda: 0)\n",
    "def tf_calculator(term, line_number):\n",
    "    counter = line_tf_word_test[line_number, term]\n",
    "    tf_value = 0\n",
    "    if ((counter <= 0)):\n",
    "        tf_value = 0\n",
    "    else:\n",
    "        tf_value = 1 + math.log10(counter)\n",
    "    return tf_value\n",
    "\n",
    "def idf_calculator(term):\n",
    "    idf_test[term] = math.log10(totalDocuments/idf_word_test[term])\n",
    "    return idf[term]\n",
    "\n",
    "# tfidf calculator\n",
    "def tfidf_calculator(term, line_number):\n",
    "    tf = tf_calculator(term, line_number)\n",
    "    idf = idf_calculator(term)\n",
    "    return tf * idf"
   ]
  },
  {
   "cell_type": "code",
   "execution_count": 47,
   "metadata": {},
   "outputs": [
    {
     "name": "stderr",
     "output_type": "stream",
     "text": [
      "C:\\Users\\Mohammad Ghorbani\\Anaconda\\lib\\site-packages\\ipykernel_launcher.py:14: DeprecationWarning: Call to deprecated `__getitem__` (Method will be removed in 4.0.0, use self.wv.__getitem__() instead).\n",
      "  \n"
     ]
    }
   ],
   "source": [
    "# Creating document vector for test documents\n",
    "document_vector_test = []\n",
    "\n",
    "for i,line in enumerate(lines[:]):\n",
    "    tokens = nltk.word_tokenize(line)\n",
    "    sum_vector = [0] * 300\n",
    "    counter = 1\n",
    "    y = 0\n",
    "    for token in tokens[:]:\n",
    "        counter = counter + 1\n",
    "        x = tfidf_calculator(token, i)\n",
    "        y += x\n",
    "        try:\n",
    "            sum_vector = sum_vector + model_word2vec[token] * x\n",
    "        except:\n",
    "            continue\n",
    "    document_vector_test.append(sum_vector/y)"
   ]
  },
  {
   "cell_type": "code",
   "execution_count": 48,
   "metadata": {},
   "outputs": [
    {
     "data": {
      "text/plain": [
       "860"
      ]
     },
     "execution_count": 48,
     "metadata": {},
     "output_type": "execute_result"
    }
   ],
   "source": [
    "len(document_vector_test)"
   ]
  },
  {
   "cell_type": "code",
   "execution_count": 49,
   "metadata": {},
   "outputs": [],
   "source": [
    "kmeans_test_counter = collections.defaultdict(lambda: 0)\n",
    "test_clustering = collections.defaultdict(lambda: 0)\n",
    "predicted_labels_test = []\n",
    "\n",
    "for i, item in enumerate(document_vector_test[:]):\n",
    "    x = kmeans.predict(document_vector_test[i].reshape(1, -1))[0]\n",
    "    kmeans_test_counter[x] += 1\n",
    "    test_clustering[x, true_labels_test[i]] +=1\n",
    "    predicted_labels_test.append(x)\n",
    "    \n",
    "# print(test_clustering)"
   ]
  },
  {
   "cell_type": "markdown",
   "metadata": {},
   "source": [
    "# Calculating NMI"
   ]
  },
  {
   "cell_type": "code",
   "execution_count": 54,
   "metadata": {},
   "outputs": [
    {
     "name": "stdout",
     "output_type": "stream",
     "text": [
      "Our Class entropy is: -2.2116490392885453\n",
      "Our Cluster entropy is: -2.072758895494122\n",
      "Our Mutual Information is: -1.1658943654161005\n",
      "Our NMI is: 0.5442499328557714\n"
     ]
    }
   ],
   "source": [
    "# Calculating NMI\n",
    "\n",
    "total_documents_test = len(document_vector_test)\n",
    "\n",
    "# calculate class entropy\n",
    "y = 0\n",
    "for doc_type in doc_types:\n",
    "    x = doc_type_counter_test[doc_type]/total_documents_test\n",
    "#     try:\n",
    "    y += (x*math.log2(x))\n",
    "#     except:\n",
    "#         continue\n",
    "class_entropy = y\n",
    "print(\"Our Class entropy is: \"+str(y))\n",
    "\n",
    "\n",
    "# calculating cluster entropy\n",
    "z = 0\n",
    "for i in range(5):\n",
    "    x = kmeans_test_counter[i]/total_documents_test\n",
    "    z += (x*math.log2(x))\n",
    "cluster_entropy = z\n",
    "print(\"Our Cluster entropy is: \"+str(z))\n",
    "    \n",
    "# calculating mutual information\n",
    "k = 0\n",
    "for i in range(5):\n",
    "    l = 0\n",
    "    for doc_type in doc_types:\n",
    "        x = test_clustering[i, doc_type] / kmeans_test_counter[i]\n",
    "        if (x!=0):\n",
    "            l += (x*math.log2(x))\n",
    "    k += (kmeans_test_counter[i]/total_documents_test)*l\n",
    "mutual_information = y-k\n",
    "# print(\"K is: \"+str(k))\n",
    "print(\"Our Mutual Information is: \"+str(mutual_information))\n",
    "\n",
    "# calculate NMI\n",
    "n = (2 * mutual_information) / (class_entropy + cluster_entropy)\n",
    "print(\"Our NMI is: \"+str(n))"
   ]
  },
  {
   "cell_type": "code",
   "execution_count": 58,
   "metadata": {},
   "outputs": [],
   "source": [
    "# Calculating Accuracy\n",
    "\n",
    "clusters_label = []\n",
    "for i in range(5):\n",
    "    max_val = 0 \n",
    "    for doc_type in doc_types:\n",
    "        if(max_val < cluster[(i), doc_type]):\n",
    "            max_val = cluster[(i), doc_type]\n",
    "            type = doc_type\n",
    "    clusters_label.append(type)\n",
    "#print(clusters_label)\n"
   ]
  },
  {
   "cell_type": "code",
   "execution_count": 59,
   "metadata": {},
   "outputs": [
    {
     "name": "stdout",
     "output_type": "stream",
     "text": [
      "Cluster 0\n",
      "   اقتصاد   13\n",
      "   سیاسی   0\n",
      "   اجتماعی   0\n",
      "   ادب و هنر   0\n",
      "   ورزش   0\n",
      "Cluster 1\n",
      "   اقتصاد   4\n",
      "   سیاسی   104\n",
      "   اجتماعی   76\n",
      "   ادب و هنر   0\n",
      "   ورزش   1\n",
      "Cluster 2\n",
      "   اقتصاد   19\n",
      "   سیاسی   84\n",
      "   اجتماعی   79\n",
      "   ادب و هنر   53\n",
      "   ورزش   18\n",
      "Cluster 3\n",
      "   اقتصاد   0\n",
      "   سیاسی   0\n",
      "   اجتماعی   0\n",
      "   ادب و هنر   3\n",
      "   ورزش   208\n",
      "Cluster 4\n",
      "   اقتصاد   175\n",
      "   سیاسی   12\n",
      "   اجتماعی   8\n",
      "   ادب و هنر   2\n",
      "   ورزش   1\n"
     ]
    }
   ],
   "source": [
    "# Confusion matrix\n",
    "\n",
    "for i in range(5):\n",
    "    print(\"Cluster \"+str(i))\n",
    "    for doc_type in doc_types:\n",
    "        print(\"   \"+doc_type+\"   \"+str(test_clustering[(i), doc_type]))"
   ]
  },
  {
   "cell_type": "markdown",
   "metadata": {},
   "source": [
    "# Calculating Accuracy"
   ]
  },
  {
   "cell_type": "code",
   "execution_count": 60,
   "metadata": {},
   "outputs": [
    {
     "name": "stdout",
     "output_type": "stream",
     "text": [
      "0.6790697674418604\n"
     ]
    }
   ],
   "source": [
    "x = 0\n",
    "for i in range(5):\n",
    "#     print(test_clustering[(i), clusters_label[i]])\n",
    "    x += test_clustering[(i), clusters_label[i]]\n",
    "print(x/total_documents_test)"
   ]
  },
  {
   "cell_type": "markdown",
   "metadata": {},
   "source": [
    "# Calculating F-Measure "
   ]
  },
  {
   "cell_type": "code",
   "execution_count": 62,
   "metadata": {},
   "outputs": [
    {
     "name": "stdout",
     "output_type": "stream",
     "text": [
      "0.6654741890069019\n"
     ]
    }
   ],
   "source": [
    "# Calculating F-Measure\n",
    "\n",
    "\n",
    "# calculating precision & recall\n",
    "class_precision_test = []\n",
    "class_recall_test = []\n",
    "for i in range(5):\n",
    "    precision = test_clustering[(i), clusters_label[i]]/kmeans_test_counter[i]\n",
    "    recall = test_clustering[(i), clusters_label[i]]/doc_type_counter_test[clusters_label[i]]\n",
    "    class_precision.append(precision)\n",
    "    class_recall.append(recall)\n",
    "\n",
    "precision = 0\n",
    "recall = 0\n",
    "for i in range(5):\n",
    "    precision += (kmeans_test_counter[i]/total_documents_test)*class_precision[i]\n",
    "    recall += (kmeans_test_counter[i]/total_documents_test)*class_recall[i]\n",
    "\n",
    "# print(precision)\n",
    "# print(recall)\n",
    "\n",
    "f_measure = (2*precision*recall)/(precision+recall)\n",
    "print(f_measure)"
   ]
  },
  {
   "cell_type": "markdown",
   "metadata": {},
   "source": [
    "# Calculating V-Measure"
   ]
  },
  {
   "cell_type": "code",
   "execution_count": 63,
   "metadata": {},
   "outputs": [],
   "source": [
    "x = {}\n",
    "for i, item in enumerate(clusters_label):\n",
    "#     print(i)\n",
    "#     print(item)\n",
    "    x[item] = i\n",
    "\n",
    "true_labels_code_test = []\n",
    "for i, item in enumerate(true_labels_test[:]):\n",
    "    try:\n",
    "        true_labels_code_test.append(x[true_labels_test[i]])\n",
    "    except:\n",
    "        true_labels_code_test.append(5)"
   ]
  },
  {
   "cell_type": "code",
   "execution_count": 64,
   "metadata": {},
   "outputs": [
    {
     "name": "stdout",
     "output_type": "stream",
     "text": [
      "Our V-Measure is: 0.5453470692978747\n"
     ]
    }
   ],
   "source": [
    "# Calculating V-Measure\n",
    "print(\"Our V-Measure is: \"+str(v_measure_score(true_labels_code_test, predicted_labels_test)))"
   ]
  },
  {
   "cell_type": "code",
   "execution_count": null,
   "metadata": {},
   "outputs": [],
   "source": []
  }
 ],
 "metadata": {
  "kernelspec": {
   "display_name": "Python 3",
   "language": "python",
   "name": "python3"
  },
  "language_info": {
   "codemirror_mode": {
    "name": "ipython",
    "version": 3
   },
   "file_extension": ".py",
   "mimetype": "text/x-python",
   "name": "python",
   "nbconvert_exporter": "python",
   "pygments_lexer": "ipython3",
   "version": "3.7.3"
  }
 },
 "nbformat": 4,
 "nbformat_minor": 2
}
